{
 "cells": [
  {
   "cell_type": "code",
   "execution_count": 1,
   "metadata": {},
   "outputs": [],
   "source": [
    "import numpy as np\n",
    "import time as tm\n",
    "from sklearn.metrics import mean_absolute_error as mae"
   ]
  },
  {
   "cell_type": "code",
   "execution_count": 2,
   "metadata": {},
   "outputs": [],
   "source": [
    "X_trn = np.loadtxt( \"train_challenges.dat\" )\n",
    "y_trn = np.loadtxt( \"train_responses.dat\" )\n",
    "X_tst = np.loadtxt( \"dummy/dummy_test_challenges.dat\" )\n",
    "y_tst = np.loadtxt( \"dummy/dummy_test_responses.dat\" )\n",
    "w_gold = np.loadtxt( \"dummy/dummy_w.dat\" )"
   ]
  },
  {
   "cell_type": "code",
   "execution_count": 3,
   "metadata": {},
   "outputs": [],
   "source": [
    "# Hard Thresholding operation\n",
    "# Given a vector and a sparsity level, sparsify the vector\n",
    "# by setting small magnitude coordinates to 0\n",
    "def HT( v, k ):\n",
    "    t = np.zeros_like( v )\n",
    "    if k < 1:\n",
    "        return t\n",
    "    else:\n",
    "        ind = np.argsort( abs( v ) )[ -k: ]\n",
    "        t[ ind ] = v[ ind ]\n",
    "        return t"
   ]
  },
  {
   "cell_type": "code",
   "execution_count": 4,
   "metadata": {},
   "outputs": [],
   "source": [
    "\n",
    "def my_fit( X_trn, y_trn ):\n",
    "\n",
    "    w = np . zeros_like ( X_trn [0])\n",
    "    v = np . ones_like ( X_trn [0])\n",
    "    t =0.3 # step length\n",
    "    lamda =0.01 # regularization constant\n",
    "    for j in range (100) :\n",
    "        for i in range (1600) :\n",
    "            sgt = lamda * v +(1/1600 * X_trn [ i ]) * ( np . dot ( X_trn [ i ] , w . T ) - y_trn [ i ] )\n",
    "            w = w - t * sgt\n",
    "        w = HT (w , 512) # our model sparsity is 512\n",
    "        t = t /1.02\n",
    "    return w\n"
   ]
  },
  {
   "cell_type": "code",
   "execution_count": 5,
   "metadata": {},
   "outputs": [],
   "source": [
    "def supp_int( x, y, k ):\n",
    "    x_t = HT( x, k )\n",
    "    y_t = HT( y, k )\n",
    "    supp_x = np.where( x_t != 0, 1, 0 )\n",
    "    supp_y = np.where( y_t != 0, 1, 0 )\n",
    "    return np.dot( supp_x, supp_y ) / k"
   ]
  },
  {
   "cell_type": "code",
   "execution_count": 6,
   "metadata": {},
   "outputs": [],
   "source": [
    "n_trials = 5\n",
    "\n",
    "t_train = 0\n",
    "model_err = 0\n",
    "mae_err = 0\n",
    "supp_rec = 0\n",
    "\n",
    "S = 512"
   ]
  },
  {
   "cell_type": "code",
   "execution_count": 7,
   "metadata": {},
   "outputs": [],
   "source": [
    "for t in range( n_trials ):\n",
    "  tic = tm.perf_counter()\n",
    "  w_hat = HT( my_fit( X_trn, y_trn ), S )\n",
    "  toc = tm.perf_counter()\n",
    "  t_train += toc - tic\n",
    "  model_err += np.linalg.norm( w_hat - w_gold )\n",
    "  mae_err += mae( y_tst, X_tst @ w_hat )\n",
    "  supp_rec += supp_int( w_hat, w_gold, S )"
   ]
  },
  {
   "cell_type": "code",
   "execution_count": 8,
   "metadata": {},
   "outputs": [
    {
     "name": "stdout",
     "output_type": "stream",
     "text": [
      "2.7610829200013542 226.2420673922405 43.82718352924236 0.2578125\n"
     ]
    }
   ],
   "source": [
    "t_train /= n_trials\n",
    "model_err /= n_trials\n",
    "mae_err /= n_trials\n",
    "supp_rec /= n_trials\n",
    "\n",
    "print( t_train, model_err, mae_err, supp_rec )"
   ]
  }
 ],
 "metadata": {
  "kernelspec": {
   "display_name": "Python 3",
   "language": "python",
   "name": "python3"
  },
  "language_info": {
   "codemirror_mode": {
    "name": "ipython",
    "version": 3
   },
   "file_extension": ".py",
   "mimetype": "text/x-python",
   "name": "python",
   "nbconvert_exporter": "python",
   "pygments_lexer": "ipython3",
   "version": "3.11.4"
  },
  "orig_nbformat": 4
 },
 "nbformat": 4,
 "nbformat_minor": 2
}
